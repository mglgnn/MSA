{
 "cells": [
  {
   "cell_type": "markdown",
   "metadata": {},
   "source": [
    "# An upper bound for the specificity and a lower bound for the sensitivity of geometric hashing\n",
    "![tile](sketch-tile.jpg)\n",
    "\n",
    "[Mario's notes and my suggested solutions](notes1.pdf)\n",
    "\n",
    "\n",
    "\n",
    "Let $M(i,j)\\in\\{0,1\\}$ be 1 iff an exact $k$-mer match starts at positions $i$ and $j$ in sequences $S$ and $T$, respectively.\n",
    "\n",
    "Assumptions\n",
    "1. There are $E$ nonoverlapping exons each of length $L$. The locations of these exons are distributed uniformly on the set of all 9-tuples of nonoverlapping exons in the square under the condition that they map all to the same tile $\\tau \\in \\mathbb{Z}$.\n",
    "2. $$P(M(i,j)=1) = \\left\\{\\begin{array}{ll}p^k& \\text{, if $(i,j)$ is in an exon}\\\\4^{-k} & \\text{, otherwise.}\\end{array}\\right.$$\n",
    "3. $M(i,j)$ and $M(i',j')$ are independent if $|i-i'|>k$ or $|j-j'|>k$.\n",
    "\n",
    "\n",
    "_Remark_: Above assumptions do not fully specify a joint distributions of $S$ and $T$ or of all $M(i,j)$. However, they could be sufficient for constructing a tight enough bounds on the sensitivity as defined below.\n",
    "\n",
    "__TODO:__ write down definition of event $A(\\tau)$ and sensitivity reusing the notation from the pencil notes\n",
    "\n",
    "$\\text{Sn} = ... A(\\tau)$"
   ]
  },
  {
   "cell_type": "markdown",
   "metadata": {},
   "source": [
    "## Upper bound for the specificity\n",
    "Let $M(\\tau)$ be the number of matches that map to tile $\\tau \\in \\mathbb{Z}$. And \n",
    "$$A(\\tau) = \\{M(\\tau) \\ge t\\},$$\n",
    "where $t\\in \\{0,1,\\ldots, E\\}$ is a _threshold_. Applying the Markov inequality yields\n",
    "$$P(A(\\tau)) \\le \\text{E}[M(\\tau)] / t$$"
   ]
  },
  {
   "cell_type": "code",
   "execution_count": 1,
   "metadata": {
    "scrolled": true
   },
   "outputs": [
    {
     "name": "stdout",
     "output_type": "stream",
     "text": [
      "0\n",
      "1\n",
      "2\n"
     ]
    }
   ],
   "source": [
    "for i in range(0,3):\n",
    "    print(i)"
   ]
  },
  {
   "cell_type": "markdown",
   "metadata": {},
   "source": [
    "## Upper bound for the sensitivity"
     

   ]
  }
 ],
 "metadata": {
  "kernelspec": {
   "display_name": "Python 3",
   "language": "python",
   "name": "python3"
  },
  "language_info": {
   "codemirror_mode": {
    "name": "ipython",
    "version": 3
   },
   "file_extension": ".py",
   "mimetype": "text/x-python",
   "name": "python",
   "nbconvert_exporter": "python",
   "pygments_lexer": "ipython3",
   "version": "3.6.8"
  }
 },
 "nbformat": 4,
 "nbformat_minor": 2
}
