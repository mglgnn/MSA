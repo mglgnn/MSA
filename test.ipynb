{
 "cells": [
  {
   "cell_type": "markdown",
   "metadata": {},
   "source": [
    "# Mapping\n",
    "\n",
    "Let $M(i,j)\\in\\{0,1\\}$ be 1 iff an exact $k$-mer match starts at positions $i$ and $j$ in sequences $S$ and $T$, respectively.\n",
    "\n",
    "Assumptions\n",
    "1. There are $$D=2\cdot w+1$",
    "$H(i,j) = \dfrac{i-j}{|i-j|}\cdot\dfrac{(|i-j|-(w+1))}{(2w+1)}$",
    "2. $$P(M(i,j)=1) = \\left\\{\\begin{array}{ll}p^k& \\text{, if $(i,j)$ is in an exon}\\\\4^{-k} & \\text{, otherwise.}\\end{array}\\right.$$\n",
    "3. $M(i,j)$ and $M(i',j')$ are independent if $|i-i'|>k$ or $|j-j'|>k$.\n",
    "\n",
    "\n",
    "_Remark_: Above assumptions do not fully specify a joint distributions of $S$ and $T$ or of all $M(i,j)$. However, they could be sufficient for constructing a tight enough bounds on the sensitivity as defined below.\n",
    "\n",
    "__TODO:__ write down definition of event $A(\\tau)$ and sensitivity reusing the notation from the pencil notes\n",
    "\n",
    "$\\text{Sn} = ... A(\\tau)$"
   ]
  }

  
  
  ],



 "metadata": {
  "kernelspec": {
   "display_name": "Python 3",
   "language": "python",
   "name": "python3"
  },
  "language_info": {
   "codemirror_mode": {
    "name": "ipython",
    "version": 3
   },
   "file_extension": ".py",
   "mimetype": "text/x-python",
   "name": "python",
   "nbconvert_exporter": "python",
   "pygments_lexer": "ipython3",
   "version": "3.6.8"
  }
 }


,
 "nbformat": 4,
 "nbformat_minor": 2
}
