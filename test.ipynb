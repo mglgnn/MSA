{
 "cells": [
  {
   "cell_type": "markdown",
   "metadata": {},
   "source": [
    "#Symmetric mapping\n",
    "![mapping](mapping.png)\n",
    "\n",
    
    "Given the size of the single tile equal to $D=2\\cdot w+1$,\n",
    
    "$H(i,j) = \\dfrac{i-j}{|i-j|}\\cdot\\dfrac{(|i-j|-(w+1))}{(2w+1)}$\n",
    
   
     
    "Let $M(i,j)\\in\\{0,1\\}$ be 1 iff an exact $k$-mer match starts at positions $i$ and $j$ in sequences $S$ and $T$, respectively.\n",
    "\n",
    "Assumptions\n",    
    "\n",
    "Let $H(i,j) =(|i-j|-(w+1))$\n",
    "\n",
    "$D=2\\cdot w+1$\n",
    "\n",
    "$H(i,j) = \\dfrac{i-j}{|i-j|}\\cdot\\dfrac{(|i-j|-(w+1))}{(2w+1)}$\n",
    
    "_Remark_: Above assumptions do not fully specify a joint distributions of $S$ and $T$ or of all $M(i,j)$. However, they could be sufficient for constructing a tight enough bounds on the sensitivity as defined below.\n",
    "\n",
    "__TODO:__ write down definition of event $A(\\tau)$ and sensitivity reusing the notation from the pencil notes\n",
    "\n",
    "$\\text{Sn} = ... A(\\tau)$"
   ]
  }

  
  
  ],



 "metadata": {
  "kernelspec": {
   "display_name": "Python 3",
   "language": "python",
   "name": "python3"
  },
  "language_info": {
   "codemirror_mode": {
    "name": "ipython",
    "version": 3
   },
   "file_extension": ".py",
   "mimetype": "text/x-python",
   "name": "python",
   "nbconvert_exporter": "python",
   "pygments_lexer": "ipython3",
   "version": "3.6.8"
  }
 }


,
 "nbformat": 4,
 "nbformat_minor": 2
}
